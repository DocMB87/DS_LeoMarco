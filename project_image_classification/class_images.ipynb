{
 "cells": [
  {
   "cell_type": "markdown",
   "metadata": {},
   "source": [
    "# Introduction\n",
    "\n",
    "Issue: we have a ton of unclassified images containing either a document (scanned or in a photo),\n",
    "a colour photo or a RX medical image (again scanned or in a photo).\n",
    "\n",
    "Goal: classify all these in the three classes, in order to unload human work.\n",
    "\n",
    "This is a very simple job for a human eye but with some tricks it can be very easy for a computer too.\n",
    "We tried to understand, why is it so easy for a human eye? \n",
    "How can we differentiate for example between a RX medical image and a colour photo?\n",
    "Which are the features that can help differentiate them?\n",
    "\n",
    "Can we do this job without the use of convolutional neural networks?"
   ]
  },
  {
   "cell_type": "markdown",
   "metadata": {},
   "source": [
    " \n",
    "First we create a grid to divide each image into nine squares."
   ]
  },
  {
   "cell_type": "code",
   "execution_count": 1,
   "metadata": {
    "collapsed": false
   },
   "outputs": [],
   "source": [
    "import string\n",
    "\n",
    "xpix, ypix = 299, 299          # number of x and y pixels into which resizing the original images\n",
    "white_th, black_th = 235, 20   # threshold to define white and black in grey scale\n",
    "xsplit, ysplit = 3, 3          # number of splits in x and y direcitons\n",
    "select = [0,2,4,6,8]           # select squares\n",
    "suffix = ['_'+i for i in string.ascii_uppercase]  # suffix for features"
   ]
  },
  {
   "cell_type": "markdown",
   "metadata": {},
   "source": [
    "\n",
    "We create a list with the names of the test images"
   ]
  },
  {
   "cell_type": "code",
   "execution_count": 3,
   "metadata": {
    "collapsed": false
   },
   "outputs": [],
   "source": [
    "import os\n",
    "from os import *\n",
    "\n",
    "fol = r'./test_images'+os.sep  # define path where test images are stored\n",
    "included_extensions = ['jpg', 'jpeg', 'tif', 'gif']  # extensions of the images\n",
    "file = [fn for fn in listdir(fol) if any(fn.endswith(ext) for ext in included_extensions)]  # file names"
   ]
  },
  {
   "cell_type": "markdown",
   "metadata": {},
   "source": [
    "\n",
    "We define the function to load the image, apply a grid and compute the features"
   ]
  },
  {
   "cell_type": "code",
   "execution_count": 16,
   "metadata": {
    "collapsed": true
   },
   "outputs": [],
   "source": [
    "def par_job_dict(ifil): \n",
    "    dict_temp = {}\n",
    "    \n",
    "    img = Image.open(fol+ifil)\n",
    "    img = img.resize((xpix,ypix), PIL.Image.ANTIALIAS)\n",
    "    img = img.convert('RGB')\n",
    "    img = np.array(img) \n",
    "    \n",
    "    dict_temp['fn'] = str(ifil)\n",
    "\n",
    "    dict_func = feature_eng_dict(img, '_TOT')\n",
    "    dict_temp.update(dict_func)\n",
    "    \n",
    "    # divide img in subimg\n",
    "    height, width, channels = img.shape\n",
    "    xticks = [round(i*1.0/xsplit*width) for i in range(xsplit)] \n",
    "    xticks.append(width)\n",
    "    yticks = [round(i*1.0/xsplit*height) for i in range(ysplit)] \n",
    "    yticks.append(height)\n",
    "    subimg = list(range(len(select)))\n",
    "\n",
    "    for isel in range(0,len(select)):\n",
    "        row = int((select[isel])/xsplit)\n",
    "        col = (select[isel])%xsplit\n",
    "        subimg[isel] = img[xticks[row]:xticks[row+1],yticks[col]:yticks[col+1]]\n",
    "\n",
    "        dict_func = feature_eng_dict(subimg[isel], suffix[isel])\n",
    "\n",
    "        dict_temp.update(dict_func)\n",
    "\n",
    "    return dict_temp"
   ]
  },
  {
   "cell_type": "markdown",
   "metadata": {},
   "source": [
    "\n",
    "Now we call the previous function"
   ]
  },
  {
   "cell_type": "code",
   "execution_count": 46,
   "metadata": {
    "collapsed": false,
    "scrolled": true
   },
   "outputs": [
    {
     "name": "stderr",
     "output_type": "stream",
     "text": [
      "[Parallel(n_jobs=8)]: Done   3 out of   3 | elapsed:    0.2s finished\n"
     ]
    }
   ],
   "source": [
    "from joblib import Parallel, delayed\n",
    "import PIL\n",
    "from PIL import Image\n",
    "import numpy as np\n",
    "from Utilities import *\n",
    "np.seterr(divide='ignore', invalid='ignore')\n",
    "\n",
    "num_cores = 8   # number of cores to use\n",
    "out = Parallel(n_jobs=num_cores, backend = 'multiprocessing', pre_dispatch = '3*n_jobs', verbose=1, \n",
    "                   batch_size = 1, max_nbytes='10G',)(delayed(par_job_dict)(ifil) for ifil in file)\n",
    "\n",
    "df = pd.DataFrame(out)"
   ]
  },
  {
   "cell_type": "code",
   "execution_count": 24,
   "metadata": {
    "collapsed": false
   },
   "outputs": [],
   "source": [
    "feat = ['ncolor','R_G_diff','R_B_diff','G_B_diff','white_perc','black_perc','gray_perc',\n",
    "        'h_mean','s_mean','v_mean','c_mean','l_mean','s_l_mean','h_median','s_median',\n",
    "        'v_median','c_median','l_median','s_l_median','h_var','s_var','v_var','c_var',\n",
    "        'l_var','s_l_var','distq_RG0','distq_RB0','distq_RG1','distq_RB1','distq_RG2',\n",
    "        'distq_RB2']\n",
    "\n",
    "cl = ['_TOT'] + suffix[:len(select)]\n",
    "X = ['fn']\n",
    "\n",
    "for el in feat:\n",
    "    c = [el + x  for x in cl]\n",
    "    X.extend(c)\n",
    "\n",
    "df = df[X]"
   ]
  },
  {
   "cell_type": "markdown",
   "metadata": {},
   "source": [
    "\n",
    "We have created a XGBoost model with all the features as predictors\n",
    "and type as ground truth"
   ]
  },
  {
   "cell_type": "code",
   "execution_count": 33,
   "metadata": {
    "collapsed": false
   },
   "outputs": [],
   "source": [
    "import xgboost as xgb\n",
    "\n",
    "xg_df = xgb.DMatrix(df.iloc[:,1:].values)\n",
    "\n",
    "model = xgb.Booster(model_file='xgb_17k_final_prob.model') "
   ]
  },
  {
   "cell_type": "code",
   "execution_count": 36,
   "metadata": {
    "collapsed": false
   },
   "outputs": [],
   "source": [
    "prediction = model.predict(xg_df)\n",
    "predictions_type = np.argmax(prediction,axis=1)\n",
    "\n",
    "df_output = df[['fn']]\n",
    "df_output = df_output.join(pd.DataFrame({'predict':predictions_type}))\n",
    "\n",
    "df_output.to_csv('df_predicted.csv', sep=';', index=False)"
   ]
  }
 ],
 "metadata": {
  "anaconda-cloud": {},
  "kernelspec": {
   "display_name": "Python 3",
   "language": "python",
   "name": "python3"
  },
  "language_info": {
   "codemirror_mode": {
    "name": "ipython",
    "version": 3
   },
   "file_extension": ".py",
   "mimetype": "text/x-python",
   "name": "python",
   "nbconvert_exporter": "python",
   "pygments_lexer": "ipython3",
   "version": "3.5.2"
  }
 },
 "nbformat": 4,
 "nbformat_minor": 1
}
